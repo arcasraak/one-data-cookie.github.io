{
 "cells": [
  {
   "cell_type": "code",
   "execution_count": 32,
   "metadata": {},
   "outputs": [],
   "source": [
    "from pathlib import Path\n",
    "import os.path\n",
    "import pendulum\n",
    "import yaml\n",
    "import fileinput\n",
    "import sys\n",
    "\n",
    "def update_modified_date(file):\n",
    "    \n",
    "    # Get current modified date\n",
    "    f = Path(file)\n",
    "    ts = os.path.getmtime(f)\n",
    "    dt = pendulum.from_timestamp(ts)\n",
    "    mod_date = dt.format('DD MMM YYYY')\n",
    "    \n",
    "    # Read file\n",
    "    with open(file, 'r') as f:\n",
    "\n",
    "        for s in f:\n",
    "            if s.startswith('---'):\n",
    "                break;\n",
    "\n",
    "        yml_list = []\n",
    "        for s in f:\n",
    "            if s.startswith('---'):\n",
    "                break;\n",
    "            else:\n",
    "                yml_list.append(s)\n",
    "\n",
    "        yml_text = ''.join(yml_list)\n",
    "        yml_yaml = yaml.load(lines_yml, yaml.SafeLoader)\n",
    "\n",
    "        md_list = list(f)\n",
    "        md_text = ''.join(md_list)\n",
    "        \n",
    "    # Change line\n",
    "    season = yml_yaml['season']\n",
    "    orig_dates = yml_yaml['dates']\n",
    "    \n",
    "    if season != 'autumn' and orig_dates[1] != mod_date:\n",
    "        orig_dates[1] = mod_date\n",
    "        new_dates = str(orig_dates). replace(\"'\", \"\")\n",
    "        new_line = f'dates: {new_dates}\\n'\n",
    "    \n",
    "    # Replace line\n",
    "    yml_list[5] = new_line\n",
    "\n",
    "    # Write everything back\n",
    "    with open(file, 'w') as f:\n",
    "        f.writelines('---\\n')\n",
    "        f.writelines(yml_list)\n",
    "        f.writelines('---\\n')\n",
    "        f.writelines(md_list)\n",
    "        \n",
    "f = 'test.md'\n",
    "update_modified_date(f)"
   ]
  }
 ],
 "metadata": {
  "kernelspec": {
   "display_name": "Python 3",
   "language": "python",
   "name": "python3"
  },
  "language_info": {
   "codemirror_mode": {
    "name": "ipython",
    "version": 3
   },
   "file_extension": ".py",
   "mimetype": "text/x-python",
   "name": "python",
   "nbconvert_exporter": "python",
   "pygments_lexer": "ipython3",
   "version": "3.8.2"
  }
 },
 "nbformat": 4,
 "nbformat_minor": 4
}
